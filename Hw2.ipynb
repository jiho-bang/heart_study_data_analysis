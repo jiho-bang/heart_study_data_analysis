{
 "cells": [
  {
   "cell_type": "code",
   "execution_count": 1,
   "id": "e9d00790",
   "metadata": {},
   "outputs": [],
   "source": [
    "import numpy as np\n",
    "import pandas as pd\n",
    "import statsmodels.formula.api as smf\n",
    "from sklearn.metrics import confusion_matrix, roc_curve, auc\n",
    "import matplotlib.pyplot as plt"
   ]
  },
  {
   "cell_type": "markdown",
   "id": "558fff2e",
   "metadata": {},
   "source": [
    "# Problem 3: Framingham Heart Study"
   ]
  },
  {
   "cell_type": "markdown",
   "id": "8bb708cc",
   "metadata": {},
   "source": [
    "## 3a)"
   ]
  },
  {
   "cell_type": "code",
   "execution_count": 2,
   "id": "4f335ccb",
   "metadata": {},
   "outputs": [
    {
     "data": {
      "text/html": [
       "<div>\n",
       "<style scoped>\n",
       "    .dataframe tbody tr th:only-of-type {\n",
       "        vertical-align: middle;\n",
       "    }\n",
       "\n",
       "    .dataframe tbody tr th {\n",
       "        vertical-align: top;\n",
       "    }\n",
       "\n",
       "    .dataframe thead th {\n",
       "        text-align: right;\n",
       "    }\n",
       "</style>\n",
       "<table border=\"1\" class=\"dataframe\">\n",
       "  <thead>\n",
       "    <tr style=\"text-align: right;\">\n",
       "      <th></th>\n",
       "      <th>male</th>\n",
       "      <th>age</th>\n",
       "      <th>education</th>\n",
       "      <th>currentSmoker</th>\n",
       "      <th>cigsPerDay</th>\n",
       "      <th>BPMeds</th>\n",
       "      <th>prevalentStroke</th>\n",
       "      <th>prevalentHyp</th>\n",
       "      <th>diabetes</th>\n",
       "      <th>totChol</th>\n",
       "      <th>sysBP</th>\n",
       "      <th>diaBP</th>\n",
       "      <th>BMI</th>\n",
       "      <th>heartRate</th>\n",
       "      <th>glucose</th>\n",
       "      <th>TenYearCHD</th>\n",
       "    </tr>\n",
       "  </thead>\n",
       "  <tbody>\n",
       "    <tr>\n",
       "      <th>0</th>\n",
       "      <td>1</td>\n",
       "      <td>59</td>\n",
       "      <td>Some college/vocational school</td>\n",
       "      <td>0</td>\n",
       "      <td>0</td>\n",
       "      <td>0</td>\n",
       "      <td>0</td>\n",
       "      <td>1</td>\n",
       "      <td>0</td>\n",
       "      <td>285</td>\n",
       "      <td>128.0</td>\n",
       "      <td>91.0</td>\n",
       "      <td>28.23</td>\n",
       "      <td>70</td>\n",
       "      <td>80</td>\n",
       "      <td>0</td>\n",
       "    </tr>\n",
       "    <tr>\n",
       "      <th>1</th>\n",
       "      <td>0</td>\n",
       "      <td>43</td>\n",
       "      <td>High school/GED</td>\n",
       "      <td>1</td>\n",
       "      <td>15</td>\n",
       "      <td>1</td>\n",
       "      <td>0</td>\n",
       "      <td>1</td>\n",
       "      <td>0</td>\n",
       "      <td>172</td>\n",
       "      <td>149.0</td>\n",
       "      <td>82.0</td>\n",
       "      <td>22.35</td>\n",
       "      <td>60</td>\n",
       "      <td>64</td>\n",
       "      <td>0</td>\n",
       "    </tr>\n",
       "    <tr>\n",
       "      <th>2</th>\n",
       "      <td>0</td>\n",
       "      <td>48</td>\n",
       "      <td>Some high school</td>\n",
       "      <td>0</td>\n",
       "      <td>0</td>\n",
       "      <td>0</td>\n",
       "      <td>0</td>\n",
       "      <td>1</td>\n",
       "      <td>0</td>\n",
       "      <td>275</td>\n",
       "      <td>177.0</td>\n",
       "      <td>101.0</td>\n",
       "      <td>25.22</td>\n",
       "      <td>75</td>\n",
       "      <td>82</td>\n",
       "      <td>1</td>\n",
       "    </tr>\n",
       "    <tr>\n",
       "      <th>3</th>\n",
       "      <td>0</td>\n",
       "      <td>52</td>\n",
       "      <td>Some college/vocational school</td>\n",
       "      <td>0</td>\n",
       "      <td>0</td>\n",
       "      <td>0</td>\n",
       "      <td>0</td>\n",
       "      <td>0</td>\n",
       "      <td>0</td>\n",
       "      <td>272</td>\n",
       "      <td>112.5</td>\n",
       "      <td>75.5</td>\n",
       "      <td>22.69</td>\n",
       "      <td>90</td>\n",
       "      <td>83</td>\n",
       "      <td>0</td>\n",
       "    </tr>\n",
       "    <tr>\n",
       "      <th>4</th>\n",
       "      <td>0</td>\n",
       "      <td>38</td>\n",
       "      <td>High school/GED</td>\n",
       "      <td>1</td>\n",
       "      <td>5</td>\n",
       "      <td>0</td>\n",
       "      <td>0</td>\n",
       "      <td>0</td>\n",
       "      <td>0</td>\n",
       "      <td>179</td>\n",
       "      <td>116.5</td>\n",
       "      <td>72.5</td>\n",
       "      <td>21.49</td>\n",
       "      <td>70</td>\n",
       "      <td>76</td>\n",
       "      <td>0</td>\n",
       "    </tr>\n",
       "  </tbody>\n",
       "</table>\n",
       "</div>"
      ],
      "text/plain": [
       "   male  age                       education  currentSmoker  cigsPerDay  \\\n",
       "0     1   59  Some college/vocational school              0           0   \n",
       "1     0   43                 High school/GED              1          15   \n",
       "2     0   48                Some high school              0           0   \n",
       "3     0   52  Some college/vocational school              0           0   \n",
       "4     0   38                 High school/GED              1           5   \n",
       "\n",
       "   BPMeds  prevalentStroke  prevalentHyp  diabetes  totChol  sysBP  diaBP  \\\n",
       "0       0                0             1         0      285  128.0   91.0   \n",
       "1       1                0             1         0      172  149.0   82.0   \n",
       "2       0                0             1         0      275  177.0  101.0   \n",
       "3       0                0             0         0      272  112.5   75.5   \n",
       "4       0                0             0         0      179  116.5   72.5   \n",
       "\n",
       "     BMI  heartRate  glucose  TenYearCHD  \n",
       "0  28.23         70       80           0  \n",
       "1  22.35         60       64           0  \n",
       "2  25.22         75       82           1  \n",
       "3  22.69         90       83           0  \n",
       "4  21.49         70       76           0  "
      ]
     },
     "execution_count": 2,
     "metadata": {},
     "output_type": "execute_result"
    }
   ],
   "source": [
    "train = pd.read_csv(\"framingham_train.csv\")\n",
    "test = pd.read_csv(\"framingham_test.csv\")\n",
    "\n",
    "train.head()"
   ]
  },
  {
   "cell_type": "markdown",
   "id": "82313803",
   "metadata": {},
   "source": [
    "### 3a) i)"
   ]
  },
  {
   "cell_type": "code",
   "execution_count": 3,
   "id": "2f400ef7",
   "metadata": {},
   "outputs": [
    {
     "name": "stdout",
     "output_type": "stream",
     "text": [
      "Optimization terminated successfully.\n",
      "         Current function value: 0.371879\n",
      "         Iterations 7\n",
      "                           Logit Regression Results                           \n",
      "==============================================================================\n",
      "Dep. Variable:             TenYearCHD   No. Observations:                 2560\n",
      "Model:                          Logit   Df Residuals:                     2542\n",
      "Method:                           MLE   Df Model:                           17\n",
      "Date:                Sat, 30 Sep 2023   Pseudo R-squ.:                  0.1102\n",
      "Time:                        15:04:29   Log-Likelihood:                -952.01\n",
      "converged:                       True   LL-Null:                       -1069.9\n",
      "Covariance Type:            nonrobust   LLR p-value:                 1.627e-40\n",
      "===============================================================================================================\n",
      "                                                  coef    std err          z      P>|z|      [0.025      0.975]\n",
      "---------------------------------------------------------------------------------------------------------------\n",
      "Intercept                                      -8.0533      0.855     -9.423      0.000      -9.728      -6.378\n",
      "education[T.High school/GED]                    0.0041      0.221      0.018      0.985      -0.428       0.436\n",
      "education[T.Some college/vocational school]     0.1267      0.242      0.524      0.601      -0.348       0.601\n",
      "education[T.Some high school]                   0.1930      0.205      0.940      0.347      -0.209       0.595\n",
      "male                                            0.5124      0.133      3.855      0.000       0.252       0.773\n",
      "age                                             0.0637      0.008      7.830      0.000       0.048       0.080\n",
      "currentSmoker                                   0.0608      0.191      0.318      0.750      -0.314       0.435\n",
      "cigsPerDay                                      0.0190      0.008      2.507      0.012       0.004       0.034\n",
      "BPMeds                                          0.1631      0.279      0.584      0.559      -0.385       0.711\n",
      "prevalentStroke                                 0.7908      0.570      1.387      0.166      -0.327       1.909\n",
      "prevalentHyp                                    0.2797      0.166      1.682      0.093      -0.046       0.606\n",
      "diabetes                                       -0.0086      0.378     -0.023      0.982      -0.750       0.733\n",
      "totChol                                         0.0027      0.001      1.975      0.048    2.11e-05       0.005\n",
      "sysBP                                           0.0133      0.005      2.832      0.005       0.004       0.022\n",
      "diaBP                                          -0.0066      0.008     -0.810      0.418      -0.023       0.009\n",
      "BMI                                             0.0150      0.016      0.964      0.335      -0.015       0.045\n",
      "heartRate                                      -0.0056      0.005     -1.084      0.279      -0.016       0.005\n",
      "glucose                                         0.0054      0.003      1.979      0.048    5.27e-05       0.011\n",
      "===============================================================================================================\n"
     ]
    }
   ],
   "source": [
    "logistic = smf.logit(formula = 'TenYearCHD ~ male + age + education + currentSmoker + cigsPerDay + BPMeds + \\\n",
    "                                prevalentStroke + prevalentHyp + diabetes + totChol + sysBP + diaBP + BMI + \\\n",
    "                                heartRate + glucose', data = train).fit()\n",
    "print(logistic.summary())"
   ]
  },
  {
   "cell_type": "markdown",
   "id": "092908fb",
   "metadata": {},
   "source": [
    "Thus, my fitted logistic regression model is:\n",
    "\n",
    "$$ y = P(TenYearCHD = 1|X) = \\frac{1}{(1+e^{-c})} $$\n",
    "\n",
    "where $$ c = -8.0533 + 0.0041 * education[High school/GED] + 0.1267 * education[College/vocational school] + 0.1930 * education[High school] + 0.5124 * male + 0.0637 * age + 0.0608 * curerntSmoker + 0.0190 * cigsPerDay + 0.1631 * BPMeds + 0.7908 * prevalentStroke + 0.2797 * prevalentHype - 0.0086 * diabetes + 0.0027 * totChol + 0.0133 * sysBP - 0.0066 * diaBP + 0.0150 * BMI - 0.0056 * heartRate + 0.0054 * glucose $$"
   ]
  },
  {
   "cell_type": "markdown",
   "id": "c9e52f62",
   "metadata": {},
   "source": [
    "### 3a) ii)"
   ]
  },
  {
   "cell_type": "markdown",
   "id": "502148d8",
   "metadata": {},
   "source": [
    "The most important risk factors are those with small p-values (lower than $0.05$). Based on the summary, it is clear that gender (male), age, cigsPerDay, sysBP, totChol, and glucose are significant. One of the most important factors, gender, says that if you are a male, you have a higher risk of developing coronary heart disease. Based on the equation, if someone is assigned male, then he has $ e^{0.5124} $ (or $1.669$) increased odds of CHD in the next 10 years."
   ]
  },
  {
   "cell_type": "markdown",
   "id": "937ebd4d",
   "metadata": {},
   "source": [
    "### 3a) iii)"
   ]
  },
  {
   "cell_type": "markdown",
   "id": "844ee9e3",
   "metadata": {},
   "source": [
    "Based on Figure 1, I can derive the following equations:\n",
    "\n",
    "Loss from prescribing medication = $1,050,000 * 0.1p + 95,000 * (1 - 0.1p)$\n",
    "\n",
    "Loss from no medication = $955,000p$\n",
    "\n",
    "Then, by following Bayes' decision rule and setting the equations equal to each other, I get:\n",
    "$$ 1,050,000 * 0.1p + 95,000 * (1 - 0.1p) = 955,000p$$\n",
    "$$ 105,000p + (95,000 - 9,500p) = 955,000p $$\n",
    "$$ 95,500p + 95,000 = 955,000p $$\n",
    "$$ 95,000 = 859,500p $$\n",
    "\n",
    "Thus, $\\overline{p} = 0.1105$. Which means that it is optimal to prescribe a patient medication only if their risk exceeds $0.1105$."
   ]
  },
  {
   "cell_type": "markdown",
   "id": "27a6579b",
   "metadata": {},
   "source": [
    "### 3a) iv)"
   ]
  },
  {
   "cell_type": "code",
   "execution_count": 4,
   "id": "084ef81f",
   "metadata": {},
   "outputs": [
    {
     "name": "stdout",
     "output_type": "stream",
     "text": [
      "Confusion Matrix: \n",
      " [[495 423]\n",
      " [ 31 149]]\n"
     ]
    }
   ],
   "source": [
    "p = 95000 / 859500\n",
    "y_test = test['TenYearCHD']\n",
    "y_prob = logistic.predict(test)\n",
    "y_pred = pd.Series([1 if x > p else 0 for x in y_prob], index = y_prob.index)\n",
    "cm = confusion_matrix(y_test, y_pred)\n",
    "print(\"Confusion Matrix: \\n\", cm)"
   ]
  },
  {
   "cell_type": "code",
   "execution_count": 5,
   "id": "ca2bf1a2",
   "metadata": {},
   "outputs": [
    {
     "name": "stdout",
     "output_type": "stream",
     "text": [
      "Accuracy: 0.5865209471766849\n",
      "True Positive Rate 0.8277777777777777\n",
      "False Positive Rate 0.46078431372549017\n"
     ]
    }
   ],
   "source": [
    "accuracy = (cm.ravel()[0] + cm.ravel()[3]) / sum(cm.ravel())\n",
    "tpr = cm.ravel()[3] / (cm.ravel()[3] + cm.ravel()[2])\n",
    "fpr = cm.ravel()[1] / (cm.ravel()[1] + cm.ravel()[0])\n",
    "print(\"Accuracy:\", accuracy)\n",
    "print(\"True Positive Rate\", tpr)\n",
    "print(\"False Positive Rate\", fpr)"
   ]
  },
  {
   "cell_type": "markdown",
   "id": "94408941",
   "metadata": {},
   "source": [
    "The accuracy in a model is the proportion of patients that were correctly classified (i.e. classified positive if you had CHD or classified negative if you didn't). The true positive rate is the proportion of patients with CHD that were correctly identified as positive. The false positive rate is the proportion of non-CHD patients that were incorrectly identified as postive. \n",
    "\n",
    "Based on these definitions, my model correctly predicts $58.65$% of the population's CHD conditions. Among those who actually develop CHD, my model can corerctly identify $82.78%$% of them. Finally, among those who don't develop CHD, my model would incorreclty classify $46%$% as having CHD."
   ]
  },
  {
   "cell_type": "markdown",
   "id": "e6c3be97",
   "metadata": {},
   "source": [
    "### 3a) v)"
   ]
  },
  {
   "cell_type": "markdown",
   "id": "b2a38d39",
   "metadata": {},
   "source": [
    "My model's expected cost is:\n",
    "$$ 1,050,000 * tpr + 95,000 * fpr + 955,000 * fnr $$"
   ]
  },
  {
   "cell_type": "code",
   "execution_count": 6,
   "id": "25e68140",
   "metadata": {},
   "outputs": [
    {
     "name": "stdout",
     "output_type": "stream",
     "text": [
      "Total expected cost: 226240000\n",
      "Total expected cost per patient is: 206047.35883424408\n"
     ]
    }
   ],
   "source": [
    "ec = 1050000 * 149 + 95000 * 423 + 955000 * 31\n",
    "print(\"Total expected cost:\", ec)\n",
    "print(\"Total expected cost per patient is:\", ec/1098)"
   ]
  },
  {
   "cell_type": "markdown",
   "id": "6b60f199",
   "metadata": {},
   "source": [
    "This expected cost was under the assumption that the treatment decision doesn't affect the CHD outcomes. However, this assumption is unreasonable because if the treatment does have an effect, the cost will not be the one above. If the medication works, I can assume that 90% of the true positives wouldn't develop CHD. Under this assumption that treatment decision does impact patient risk, the new expected cost is:\n",
    "\n",
    "$$ 1,050,000 * (0.1 * tpr) + 95,000 * (fpr + 0.9 * tpr) + 955,000 * fnr $$"
   ]
  },
  {
   "cell_type": "code",
   "execution_count": 7,
   "id": "958b02ea",
   "metadata": {},
   "outputs": [
    {
     "name": "stdout",
     "output_type": "stream",
     "text": [
      "New expected cost: 98174500.0\n",
      "The new expected cost per patient is: 89412.11293260474\n"
     ]
    }
   ],
   "source": [
    "nec = 1050000 * 149 * 0.1 + 95000 * (423 + 0.9 * 149) + 955000 * 31\n",
    "print(\"New expected cost:\", nec)\n",
    "print(\"The new expected cost per patient is:\", nec/1098)"
   ]
  },
  {
   "cell_type": "markdown",
   "id": "5fd68320",
   "metadata": {},
   "source": [
    "### 3a) vi)"
   ]
  },
  {
   "cell_type": "code",
   "execution_count": 8,
   "id": "d222c4a4",
   "metadata": {},
   "outputs": [
    {
     "name": "stdout",
     "output_type": "stream",
     "text": [
      "Confusion Matrix for baseline model: \n",
      " [[918   0]\n",
      " [180   0]]\n"
     ]
    }
   ],
   "source": [
    "cm_baseline = confusion_matrix(test['TenYearCHD'], [0] * test.shape[0])\n",
    "print(\"Confusion Matrix for baseline model: \\n\", cm_baseline)"
   ]
  },
  {
   "cell_type": "code",
   "execution_count": 9,
   "id": "57469e07",
   "metadata": {},
   "outputs": [
    {
     "name": "stdout",
     "output_type": "stream",
     "text": [
      "Baseline Accuracy: 0.8360655737704918\n",
      "Baseline True Positive Rate 0.0\n",
      "Baseline False Positive Rate 0.0\n"
     ]
    }
   ],
   "source": [
    "accuracy_base = (cm_baseline.ravel()[0] + cm_baseline.ravel()[3]) / sum(cm_baseline.ravel())\n",
    "tpr_base = cm_baseline.ravel()[3] / (cm_baseline.ravel()[3] + cm_baseline.ravel()[2])\n",
    "fpr_base = cm_baseline.ravel()[1] / (cm_baseline.ravel()[1] + cm_baseline.ravel()[0])\n",
    "print(\"Baseline Accuracy:\", accuracy_base)\n",
    "print(\"Baseline True Positive Rate\", tpr_base)\n",
    "print(\"Baseline False Positive Rate\", fpr_base)"
   ]
  },
  {
   "cell_type": "code",
   "execution_count": 10,
   "id": "b76e9963",
   "metadata": {},
   "outputs": [
    {
     "name": "stdout",
     "output_type": "stream",
     "text": [
      "The baseline expected cost per patient is: 156557.37704918033\n"
     ]
    }
   ],
   "source": [
    "baseline_ec = 955000 * 180\n",
    "print(\"The baseline expected cost per patient is:\", baseline_ec/1098)"
   ]
  },
  {
   "cell_type": "markdown",
   "id": "a00b0cea",
   "metadata": {},
   "source": [
    "The accuracy for this baseline model is noticeably higher than my previous model. However, the reason for this improvement is because the baseline model doesn't classify anything as positive (setting the fpr at 0). Thus, the model won't identify potential CHD patients (making tpr 0). \n",
    "\n",
    "Since the cost of wrongly identifying a positive sample as negative is much higher than the reverse, the baseline model, despite its increased accuracy, has much higher expected costs per patient."
   ]
  },
  {
   "cell_type": "markdown",
   "id": "82f0f481",
   "metadata": {},
   "source": [
    "### 3a) vii)"
   ]
  },
  {
   "cell_type": "code",
   "execution_count": 11,
   "id": "e0b66297",
   "metadata": {},
   "outputs": [
    {
     "data": {
      "text/plain": [
       "0    0.039055\n",
       "dtype: float64"
      ]
     },
     "execution_count": 11,
     "metadata": {},
     "output_type": "execute_result"
    }
   ],
   "source": [
    "patient = pd.DataFrame(data = {'education': ['High school/GED'], 'male': [0], 'age': [39], 'currentSmoker': [1], \\\n",
    "                               'cigsPerDay': [6], 'BPMeds': [0], 'prevalentStroke': [0], 'prevalentHyp': [0], \\\n",
    "                              'diabetes': [1], 'totChol': [230], 'sysBP': [110], 'diaBP': [50], 'BMI': [28], \\\n",
    "                              'heartRate': [72], 'glucose': [80]})\n",
    "logistic.predict(patient)"
   ]
  },
  {
   "cell_type": "markdown",
   "id": "1de61df1",
   "metadata": {},
   "source": [
    "Based on this patient's medical records, they have a probability of $0.039055$ of developing CHD. Given that $\\overline{p} = 0.1105$ and this patient's risk is below the threshold, the physician should not prescribe this patient with medication."
   ]
  },
  {
   "cell_type": "markdown",
   "id": "0d4920d2",
   "metadata": {},
   "source": [
    "   "
   ]
  },
  {
   "cell_type": "markdown",
   "id": "d5b9d019",
   "metadata": {},
   "source": [
    "## 3b)"
   ]
  },
  {
   "cell_type": "code",
   "execution_count": 12,
   "id": "c813ddb4",
   "metadata": {},
   "outputs": [
    {
     "data": {
      "image/png": "[encoded data removed]",
      "text/plain": [
       "<Figure size 640x480 with 1 Axes>"
      ]
     },
     "metadata": {},
     "output_type": "display_data"
    }
   ],
   "source": [
    "fpr, tpr, _ = roc_curve(y_test, y_prob)\n",
    "roc_auc = auc(fpr, tpr)\n",
    "plt.plot(fpr, tpr, label = 'Logistic Regression (area = {:0.1f})'.format(roc_auc))\n",
    "plt.plot([0, 1], [0, 1], label = 'Naive Baseline (area = 0.5)')\n",
    "plt.legend()\n",
    "plt.title('ROC Curve')\n",
    "plt.xlabel('False Positive Rate')\n",
    "plt.ylabel('True Positive Rate')\n",
    "plt.show()"
   ]
  },
  {
   "cell_type": "markdown",
   "id": "55967f44",
   "metadata": {},
   "source": [
    "The ROC curve is helpful because it demonstrates the trade off between the true and false positive rate. This allows you to choose the best threshold for your model, by balancing the costs associated of the true positive and false positives. In this specific example, given that the loss for a false positive is much lower than the cost for a true positive, it is optimal to choose a cut-off where the tpr is high (left upper area).\n",
    "\n",
    "One interesting observation is that the ROC curve is well above the baseline. This means that my model outperforms the baseline model. The $0.83$ tpr, $0.46$ fpr, and their position relative to the basline indicates the model has good performance and discriminative ability."
   ]
  },
  {
   "cell_type": "markdown",
   "id": "64582384",
   "metadata": {},
   "source": [
    "## 3c)"
   ]
  },
  {
   "cell_type": "markdown",
   "id": "26ab0500",
   "metadata": {},
   "source": [
    "Loss from prescription = $(C + 625,000) * 0.1p + C * (1 - 0.1p)$\n",
    "\n",
    "Loss from no prescription = 625,000p\n",
    "\n",
    "Then, by following Bayes' decision rule and setting the equations equal to each other, I get:\n",
    "$$ (C + 625,000) * 0.1p + C * (1 - 0.1p) = 625,000p $$\n",
    "$$ 0.1Cp + 62,500p + C - 0.1Cp = 625,000p $$\n",
    "$$ C = 562,500p $$\n",
    "\n",
    "Finally, by plugging in the $\\overline{p}$ from 3a), I get:\n",
    "$$ C = 562,500(0.1105) $$\n",
    "$$ C = 62,156.25 $$\n",
    "\n",
    "Thus, the insurance company should charge $ 62,156.25 $ as a copayment in order for the patients to be able to \"self select\" in the \"optimal strategy.\""
   ]
  },
  {
   "cell_type": "markdown",
   "id": "067ef09b",
   "metadata": {},
   "source": [
    "## 3d)"
   ]
  },
  {
   "cell_type": "markdown",
   "id": "0144c280",
   "metadata": {},
   "source": [
    "One ethical concern to raise is the value of human life. Different people, at different stages, states in their lives, value their life differently. A healthy person may value their life differently to a chronically ill person, a person struggling with mental disability may unjustly devalue their life. But, someone who is always positive and healthy, and happy, may believe their life is priceless. Thus, quantifying the decreased quality of life at $625,000 is not correct and morally questionable. \n",
    "\n",
    "One way to to perform analysis to address this concern is to allow the person themselves, (or perhaps a guardian) to select the assumptions of their own life and allow them to set the threshold and cutoff values to make their decisions."
   ]
  }
 ],
 "metadata": {
  "kernelspec": {
   "display_name": "Python 3 (ipykernel)",
   "language": "python",
   "name": "python3"
  },
  "language_info": {
   "codemirror_mode": {
    "name": "ipython",
    "version": 3
   },
   "file_extension": ".py",
   "mimetype": "text/x-python",
   "name": "python",
   "nbconvert_exporter": "python",
   "pygments_lexer": "ipython3",
   "version": "3.11.4"
  }
 },
 "nbformat": 4,
 "nbformat_minor": 5
}
